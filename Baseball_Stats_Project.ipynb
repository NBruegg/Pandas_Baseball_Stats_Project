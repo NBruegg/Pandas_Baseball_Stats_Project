{
 "cells": [
  {
   "cell_type": "code",
   "execution_count": 2,
   "id": "dc4f1000",
   "metadata": {},
   "outputs": [
    {
     "name": "stdout",
     "output_type": "stream",
     "text": [
      "     last_name  first_name  player_id  year  player_age  b_home_run    xba  \\\n",
      "0      Cabrera      Miguel     408234  2022          39           3  0.266   \n",
      "1     Cruz Jr.      Nelson     443558  2022          41           8  0.265   \n",
      "2     Blackmon     Charlie     453568  2022          35          14  0.284   \n",
      "3    McCutchen      Andrew     457705  2022          35           9  0.272   \n",
      "4       Turner      Justin     457759  2022          37           8  0.263   \n",
      "..         ...         ...        ...   ...         ...         ...    ...   \n",
      "147   Witt Jr.       Bobby     677951  2022          22          13  0.265   \n",
      "148  Torkelson     Spencer     679529  2022          22           5  0.235   \n",
      "149       Kwan      Steven     680757  2022          24           1  0.262   \n",
      "150     Miller        Owen     680911  2022          25           4  0.254   \n",
      "151     Vaughn      Andrew     683734  2022          24          10  0.283   \n",
      "\n",
      "      xslg  xwoba   xobp   xiso  exit_velocity_avg  launch_angle_avg  \\\n",
      "0    0.396  0.305  0.310  0.129               89.8               5.3   \n",
      "1    0.479  0.353  0.346  0.214               90.8               7.0   \n",
      "2    0.458  0.338  0.333  0.174               86.2              13.5   \n",
      "3    0.458  0.338  0.333  0.186               89.0              12.1   \n",
      "4    0.453  0.341  0.340  0.190               89.1              19.2   \n",
      "..     ...    ...    ...    ...                ...               ...   \n",
      "147  0.467  0.330  0.311  0.202               90.8              16.7   \n",
      "148  0.392  0.312  0.319  0.156               89.5              13.2   \n",
      "149  0.344  0.311  0.351  0.082               85.1              10.1   \n",
      "150  0.375  0.304  0.316  0.122               86.9               9.4   \n",
      "151  0.477  0.352  0.339  0.193               92.0               7.4   \n",
      "\n",
      "     Unnamed: 13  \n",
      "0            NaN  \n",
      "1            NaN  \n",
      "2            NaN  \n",
      "3            NaN  \n",
      "4            NaN  \n",
      "..           ...  \n",
      "147          NaN  \n",
      "148          NaN  \n",
      "149          NaN  \n",
      "150          NaN  \n",
      "151          NaN  \n",
      "\n",
      "[152 rows x 14 columns]\n"
     ]
    }
   ],
   "source": [
    "import pandas as pd\n",
    "\n",
    "stats = pd.read_csv (r'C:\\projects\\BaseballStats\\stats.csv')\n",
    "print(stats)"
   ]
  },
  {
   "cell_type": "code",
   "execution_count": 5,
   "id": "0fedeb42",
   "metadata": {},
   "outputs": [
    {
     "data": {
      "text/plain": [
       "last_name              0\n",
       " first_name            0\n",
       "player_id              0\n",
       "year                   0\n",
       "player_age             0\n",
       "b_home_run             0\n",
       "xba                    0\n",
       "xslg                   0\n",
       "xwoba                  0\n",
       "xobp                   0\n",
       "xiso                   0\n",
       "exit_velocity_avg      0\n",
       "launch_angle_avg       0\n",
       "Unnamed: 13          152\n",
       "dtype: int64"
      ]
     },
     "execution_count": 5,
     "metadata": {},
     "output_type": "execute_result"
    }
   ],
   "source": [
    "# checking for missing data\n",
    "stats.isna().sum()"
   ]
  },
  {
   "cell_type": "code",
   "execution_count": 10,
   "id": "aae5db50",
   "metadata": {},
   "outputs": [
    {
     "name": "stdout",
     "output_type": "stream",
     "text": [
      "0     NaN\n",
      "1     NaN\n",
      "2     NaN\n",
      "3     NaN\n",
      "4     NaN\n",
      "       ..\n",
      "147   NaN\n",
      "148   NaN\n",
      "149   NaN\n",
      "150   NaN\n",
      "151   NaN\n",
      "Name: Unnamed: 13, Length: 152, dtype: float64\n"
     ]
    }
   ],
   "source": [
    "print(stats['Unnamed: 13'])"
   ]
  },
  {
   "cell_type": "code",
   "execution_count": 11,
   "id": "7cc57d72",
   "metadata": {},
   "outputs": [
    {
     "name": "stdout",
     "output_type": "stream",
     "text": [
      "     last_name  first_name  player_id  year  player_age  b_home_run    xba  \\\n",
      "0      Cabrera      Miguel     408234  2022          39           3  0.266   \n",
      "1     Cruz Jr.      Nelson     443558  2022          41           8  0.265   \n",
      "2     Blackmon     Charlie     453568  2022          35          14  0.284   \n",
      "3    McCutchen      Andrew     457705  2022          35           9  0.272   \n",
      "4       Turner      Justin     457759  2022          37           8  0.263   \n",
      "..         ...         ...        ...   ...         ...         ...    ...   \n",
      "147   Witt Jr.       Bobby     677951  2022          22          13  0.265   \n",
      "148  Torkelson     Spencer     679529  2022          22           5  0.235   \n",
      "149       Kwan      Steven     680757  2022          24           1  0.262   \n",
      "150     Miller        Owen     680911  2022          25           4  0.254   \n",
      "151     Vaughn      Andrew     683734  2022          24          10  0.283   \n",
      "\n",
      "      xslg  xwoba   xobp   xiso  exit_velocity_avg  launch_angle_avg  \n",
      "0    0.396  0.305  0.310  0.129               89.8               5.3  \n",
      "1    0.479  0.353  0.346  0.214               90.8               7.0  \n",
      "2    0.458  0.338  0.333  0.174               86.2              13.5  \n",
      "3    0.458  0.338  0.333  0.186               89.0              12.1  \n",
      "4    0.453  0.341  0.340  0.190               89.1              19.2  \n",
      "..     ...    ...    ...    ...                ...               ...  \n",
      "147  0.467  0.330  0.311  0.202               90.8              16.7  \n",
      "148  0.392  0.312  0.319  0.156               89.5              13.2  \n",
      "149  0.344  0.311  0.351  0.082               85.1              10.1  \n",
      "150  0.375  0.304  0.316  0.122               86.9               9.4  \n",
      "151  0.477  0.352  0.339  0.193               92.0               7.4  \n",
      "\n",
      "[152 rows x 13 columns]\n"
     ]
    }
   ],
   "source": [
    "# removed unnecessary column containing missing data\n",
    "stats.drop('Unnamed: 13', axis=1, inplace=True)\n",
    "print(stats)"
   ]
  },
  {
   "cell_type": "code",
   "execution_count": 28,
   "id": "a796e4da",
   "metadata": {},
   "outputs": [
    {
     "name": "stdout",
     "output_type": "stream",
     "text": [
      "      lastName  first_name  player_id  year  player_age  b_home_run    xba  \\\n",
      "0      Cabrera      Miguel     408234  2022          39           3  0.266   \n",
      "1     Cruz Jr.      Nelson     443558  2022          41           8  0.265   \n",
      "2     Blackmon     Charlie     453568  2022          35          14  0.284   \n",
      "3    McCutchen      Andrew     457705  2022          35           9  0.272   \n",
      "4       Turner      Justin     457759  2022          37           8  0.263   \n",
      "..         ...         ...        ...   ...         ...         ...    ...   \n",
      "147   Witt Jr.       Bobby     677951  2022          22          13  0.265   \n",
      "148  Torkelson     Spencer     679529  2022          22           5  0.235   \n",
      "149       Kwan      Steven     680757  2022          24           1  0.262   \n",
      "150     Miller        Owen     680911  2022          25           4  0.254   \n",
      "151     Vaughn      Andrew     683734  2022          24          10  0.283   \n",
      "\n",
      "      xslg  xwoba   xobp   xiso  exit_velocity_avg  launch_angle_avg  \n",
      "0    0.396  0.305  0.310  0.129               89.8               5.3  \n",
      "1    0.479  0.353  0.346  0.214               90.8               7.0  \n",
      "2    0.458  0.338  0.333  0.174               86.2              13.5  \n",
      "3    0.458  0.338  0.333  0.186               89.0              12.1  \n",
      "4    0.453  0.341  0.340  0.190               89.1              19.2  \n",
      "..     ...    ...    ...    ...                ...               ...  \n",
      "147  0.467  0.330  0.311  0.202               90.8              16.7  \n",
      "148  0.392  0.312  0.319  0.156               89.5              13.2  \n",
      "149  0.344  0.311  0.351  0.082               85.1              10.1  \n",
      "150  0.375  0.304  0.316  0.122               86.9               9.4  \n",
      "151  0.477  0.352  0.339  0.193               92.0               7.4  \n",
      "\n",
      "[152 rows x 13 columns]\n"
     ]
    }
   ],
   "source": [
    "\n",
    "print(stats)"
   ]
  },
  {
   "cell_type": "code",
   "execution_count": 31,
   "id": "ff3314ea",
   "metadata": {},
   "outputs": [
    {
     "name": "stdout",
     "output_type": "stream",
     "text": [
      "      lastName  first_name  player_id  year  player_age  b_home_run    xba  \\\n",
      "0      Cabrera      Miguel     408234  2022          39           3  0.266   \n",
      "1     Cruz Jr.      Nelson     443558  2022          41           8  0.265   \n",
      "2     Blackmon     Charlie     453568  2022          35          14  0.284   \n",
      "3    McCutchen      Andrew     457705  2022          35           9  0.272   \n",
      "4       Turner      Justin     457759  2022          37           8  0.263   \n",
      "..         ...         ...        ...   ...         ...         ...    ...   \n",
      "147   Witt Jr.       Bobby     677951  2022          22          13  0.265   \n",
      "148  Torkelson     Spencer     679529  2022          22           5  0.235   \n",
      "149       Kwan      Steven     680757  2022          24           1  0.262   \n",
      "150     Miller        Owen     680911  2022          25           4  0.254   \n",
      "151     Vaughn      Andrew     683734  2022          24          10  0.283   \n",
      "\n",
      "      xslg  xwoba   xobp   xiso  exit_velocity_avg  launch_angle_avg  \\\n",
      "0    0.396  0.305  0.310  0.129               89.8               5.3   \n",
      "1    0.479  0.353  0.346  0.214               90.8               7.0   \n",
      "2    0.458  0.338  0.333  0.174               86.2              13.5   \n",
      "3    0.458  0.338  0.333  0.186               89.0              12.1   \n",
      "4    0.453  0.341  0.340  0.190               89.1              19.2   \n",
      "..     ...    ...    ...    ...                ...               ...   \n",
      "147  0.467  0.330  0.311  0.202               90.8              16.7   \n",
      "148  0.392  0.312  0.319  0.156               89.5              13.2   \n",
      "149  0.344  0.311  0.351  0.082               85.1              10.1   \n",
      "150  0.375  0.304  0.316  0.122               86.9               9.4   \n",
      "151  0.477  0.352  0.339  0.193               92.0               7.4   \n",
      "\n",
      "                   name  \n",
      "0        Miguel Cabrera  \n",
      "1       Nelson Cruz Jr.  \n",
      "2      Charlie Blackmon  \n",
      "3      Andrew McCutchen  \n",
      "4         Justin Turner  \n",
      "..                  ...  \n",
      "147      Bobby Witt Jr.  \n",
      "148   Spencer Torkelson  \n",
      "149         Steven Kwan  \n",
      "150         Owen Miller  \n",
      "151       Andrew Vaughn  \n",
      "\n",
      "[152 rows x 14 columns]\n"
     ]
    }
   ],
   "source": [
    "# combined first and last name columns for simplicity\n",
    "stats['name'] = stats[[' first_name','lastName']].apply(lambda x: ' '.join(x), axis=1)\n",
    "print(stats)"
   ]
  },
  {
   "cell_type": "code",
   "execution_count": 37,
   "id": "345650d0",
   "metadata": {},
   "outputs": [
    {
     "name": "stdout",
     "output_type": "stream",
     "text": [
      "     player_id  year  player_age  b_home_run    xba   xslg  xwoba   xobp  \\\n",
      "0       408234  2022          39           3  0.266  0.396  0.305  0.310   \n",
      "1       443558  2022          41           8  0.265  0.479  0.353  0.346   \n",
      "2       453568  2022          35          14  0.284  0.458  0.338  0.333   \n",
      "3       457705  2022          35           9  0.272  0.458  0.338  0.333   \n",
      "4       457759  2022          37           8  0.263  0.453  0.341  0.340   \n",
      "..         ...   ...         ...         ...    ...    ...    ...    ...   \n",
      "147     677951  2022          22          13  0.265  0.467  0.330  0.311   \n",
      "148     679529  2022          22           5  0.235  0.392  0.312  0.319   \n",
      "149     680757  2022          24           1  0.262  0.344  0.311  0.351   \n",
      "150     680911  2022          25           4  0.254  0.375  0.304  0.316   \n",
      "151     683734  2022          24          10  0.283  0.477  0.352  0.339   \n",
      "\n",
      "      xiso  exit_velocity_avg  launch_angle_avg                name  \n",
      "0    0.129               89.8               5.3      Miguel Cabrera  \n",
      "1    0.214               90.8               7.0     Nelson Cruz Jr.  \n",
      "2    0.174               86.2              13.5    Charlie Blackmon  \n",
      "3    0.186               89.0              12.1    Andrew McCutchen  \n",
      "4    0.190               89.1              19.2       Justin Turner  \n",
      "..     ...                ...               ...                 ...  \n",
      "147  0.202               90.8              16.7      Bobby Witt Jr.  \n",
      "148  0.156               89.5              13.2   Spencer Torkelson  \n",
      "149  0.082               85.1              10.1         Steven Kwan  \n",
      "150  0.122               86.9               9.4         Owen Miller  \n",
      "151  0.193               92.0               7.4       Andrew Vaughn  \n",
      "\n",
      "[152 rows x 12 columns]\n"
     ]
    }
   ],
   "source": [
    "# dropped unnecessary column \n",
    "stats.drop(' first_name', axis=1, inplace=True)\n",
    "print(stats)"
   ]
  },
  {
   "cell_type": "code",
   "execution_count": 39,
   "id": "2cc8c768",
   "metadata": {},
   "outputs": [
    {
     "name": "stdout",
     "output_type": "stream",
     "text": [
      "                   name  player_id  year  player_age  b_home_run    xba  \\\n",
      "0        Miguel Cabrera     408234  2022          39           3  0.266   \n",
      "1       Nelson Cruz Jr.     443558  2022          41           8  0.265   \n",
      "2      Charlie Blackmon     453568  2022          35          14  0.284   \n",
      "3      Andrew McCutchen     457705  2022          35           9  0.272   \n",
      "4         Justin Turner     457759  2022          37           8  0.263   \n",
      "..                  ...        ...   ...         ...         ...    ...   \n",
      "147      Bobby Witt Jr.     677951  2022          22          13  0.265   \n",
      "148   Spencer Torkelson     679529  2022          22           5  0.235   \n",
      "149         Steven Kwan     680757  2022          24           1  0.262   \n",
      "150         Owen Miller     680911  2022          25           4  0.254   \n",
      "151       Andrew Vaughn     683734  2022          24          10  0.283   \n",
      "\n",
      "      xslg  xwoba   xobp   xiso  exit_velocity_avg  launch_angle_avg  \n",
      "0    0.396  0.305  0.310  0.129               89.8               5.3  \n",
      "1    0.479  0.353  0.346  0.214               90.8               7.0  \n",
      "2    0.458  0.338  0.333  0.174               86.2              13.5  \n",
      "3    0.458  0.338  0.333  0.186               89.0              12.1  \n",
      "4    0.453  0.341  0.340  0.190               89.1              19.2  \n",
      "..     ...    ...    ...    ...                ...               ...  \n",
      "147  0.467  0.330  0.311  0.202               90.8              16.7  \n",
      "148  0.392  0.312  0.319  0.156               89.5              13.2  \n",
      "149  0.344  0.311  0.351  0.082               85.1              10.1  \n",
      "150  0.375  0.304  0.316  0.122               86.9               9.4  \n",
      "151  0.477  0.352  0.339  0.193               92.0               7.4  \n",
      "\n",
      "[152 rows x 12 columns]\n"
     ]
    }
   ],
   "source": [
    "# reordered columns\n",
    "stats = stats[['name', 'player_id', 'year', 'player_age', 'b_home_run', 'xba', 'xslg', 'xwoba', 'xobp', 'xiso', 'exit_velocity_avg', 'launch_angle_avg']]\n",
    "print(stats)"
   ]
  },
  {
   "cell_type": "code",
   "execution_count": 43,
   "id": "361625a1",
   "metadata": {},
   "outputs": [
    {
     "ename": "KeyError",
     "evalue": "\"['year'] not found in axis\"",
     "output_type": "error",
     "traceback": [
      "\u001b[1;31m---------------------------------------------------------------------------\u001b[0m",
      "\u001b[1;31mKeyError\u001b[0m                                  Traceback (most recent call last)",
      "Input \u001b[1;32mIn [43]\u001b[0m, in \u001b[0;36m<cell line: 1>\u001b[1;34m()\u001b[0m\n\u001b[1;32m----> 1\u001b[0m \u001b[43mstats\u001b[49m\u001b[38;5;241;43m.\u001b[39;49m\u001b[43mdrop\u001b[49m\u001b[43m(\u001b[49m\u001b[38;5;124;43m'\u001b[39;49m\u001b[38;5;124;43myear\u001b[39;49m\u001b[38;5;124;43m'\u001b[39;49m\u001b[43m,\u001b[49m\u001b[43m \u001b[49m\u001b[43maxis\u001b[49m\u001b[38;5;241;43m=\u001b[39;49m\u001b[38;5;241;43m1\u001b[39;49m\u001b[43m,\u001b[49m\u001b[43m \u001b[49m\u001b[43minplace\u001b[49m\u001b[38;5;241;43m=\u001b[39;49m\u001b[38;5;28;43;01mTrue\u001b[39;49;00m\u001b[43m)\u001b[49m\n\u001b[0;32m      2\u001b[0m \u001b[38;5;28mprint\u001b[39m(stats)\n",
      "File \u001b[1;32m~\\anaconda3\\lib\\site-packages\\pandas\\util\\_decorators.py:311\u001b[0m, in \u001b[0;36mdeprecate_nonkeyword_arguments.<locals>.decorate.<locals>.wrapper\u001b[1;34m(*args, **kwargs)\u001b[0m\n\u001b[0;32m    305\u001b[0m \u001b[38;5;28;01mif\u001b[39;00m \u001b[38;5;28mlen\u001b[39m(args) \u001b[38;5;241m>\u001b[39m num_allow_args:\n\u001b[0;32m    306\u001b[0m     warnings\u001b[38;5;241m.\u001b[39mwarn(\n\u001b[0;32m    307\u001b[0m         msg\u001b[38;5;241m.\u001b[39mformat(arguments\u001b[38;5;241m=\u001b[39marguments),\n\u001b[0;32m    308\u001b[0m         \u001b[38;5;167;01mFutureWarning\u001b[39;00m,\n\u001b[0;32m    309\u001b[0m         stacklevel\u001b[38;5;241m=\u001b[39mstacklevel,\n\u001b[0;32m    310\u001b[0m     )\n\u001b[1;32m--> 311\u001b[0m \u001b[38;5;28;01mreturn\u001b[39;00m func(\u001b[38;5;241m*\u001b[39margs, \u001b[38;5;241m*\u001b[39m\u001b[38;5;241m*\u001b[39mkwargs)\n",
      "File \u001b[1;32m~\\anaconda3\\lib\\site-packages\\pandas\\core\\frame.py:4954\u001b[0m, in \u001b[0;36mDataFrame.drop\u001b[1;34m(self, labels, axis, index, columns, level, inplace, errors)\u001b[0m\n\u001b[0;32m   4806\u001b[0m \u001b[38;5;129m@deprecate_nonkeyword_arguments\u001b[39m(version\u001b[38;5;241m=\u001b[39m\u001b[38;5;28;01mNone\u001b[39;00m, allowed_args\u001b[38;5;241m=\u001b[39m[\u001b[38;5;124m\"\u001b[39m\u001b[38;5;124mself\u001b[39m\u001b[38;5;124m\"\u001b[39m, \u001b[38;5;124m\"\u001b[39m\u001b[38;5;124mlabels\u001b[39m\u001b[38;5;124m\"\u001b[39m])\n\u001b[0;32m   4807\u001b[0m \u001b[38;5;28;01mdef\u001b[39;00m \u001b[38;5;21mdrop\u001b[39m(\n\u001b[0;32m   4808\u001b[0m     \u001b[38;5;28mself\u001b[39m,\n\u001b[1;32m   (...)\u001b[0m\n\u001b[0;32m   4815\u001b[0m     errors: \u001b[38;5;28mstr\u001b[39m \u001b[38;5;241m=\u001b[39m \u001b[38;5;124m\"\u001b[39m\u001b[38;5;124mraise\u001b[39m\u001b[38;5;124m\"\u001b[39m,\n\u001b[0;32m   4816\u001b[0m ):\n\u001b[0;32m   4817\u001b[0m     \u001b[38;5;124;03m\"\"\"\u001b[39;00m\n\u001b[0;32m   4818\u001b[0m \u001b[38;5;124;03m    Drop specified labels from rows or columns.\u001b[39;00m\n\u001b[0;32m   4819\u001b[0m \n\u001b[1;32m   (...)\u001b[0m\n\u001b[0;32m   4952\u001b[0m \u001b[38;5;124;03m            weight  1.0     0.8\u001b[39;00m\n\u001b[0;32m   4953\u001b[0m \u001b[38;5;124;03m    \"\"\"\u001b[39;00m\n\u001b[1;32m-> 4954\u001b[0m     \u001b[38;5;28;01mreturn\u001b[39;00m \u001b[38;5;28;43msuper\u001b[39;49m\u001b[43m(\u001b[49m\u001b[43m)\u001b[49m\u001b[38;5;241;43m.\u001b[39;49m\u001b[43mdrop\u001b[49m\u001b[43m(\u001b[49m\n\u001b[0;32m   4955\u001b[0m \u001b[43m        \u001b[49m\u001b[43mlabels\u001b[49m\u001b[38;5;241;43m=\u001b[39;49m\u001b[43mlabels\u001b[49m\u001b[43m,\u001b[49m\n\u001b[0;32m   4956\u001b[0m \u001b[43m        \u001b[49m\u001b[43maxis\u001b[49m\u001b[38;5;241;43m=\u001b[39;49m\u001b[43maxis\u001b[49m\u001b[43m,\u001b[49m\n\u001b[0;32m   4957\u001b[0m \u001b[43m        \u001b[49m\u001b[43mindex\u001b[49m\u001b[38;5;241;43m=\u001b[39;49m\u001b[43mindex\u001b[49m\u001b[43m,\u001b[49m\n\u001b[0;32m   4958\u001b[0m \u001b[43m        \u001b[49m\u001b[43mcolumns\u001b[49m\u001b[38;5;241;43m=\u001b[39;49m\u001b[43mcolumns\u001b[49m\u001b[43m,\u001b[49m\n\u001b[0;32m   4959\u001b[0m \u001b[43m        \u001b[49m\u001b[43mlevel\u001b[49m\u001b[38;5;241;43m=\u001b[39;49m\u001b[43mlevel\u001b[49m\u001b[43m,\u001b[49m\n\u001b[0;32m   4960\u001b[0m \u001b[43m        \u001b[49m\u001b[43minplace\u001b[49m\u001b[38;5;241;43m=\u001b[39;49m\u001b[43minplace\u001b[49m\u001b[43m,\u001b[49m\n\u001b[0;32m   4961\u001b[0m \u001b[43m        \u001b[49m\u001b[43merrors\u001b[49m\u001b[38;5;241;43m=\u001b[39;49m\u001b[43merrors\u001b[49m\u001b[43m,\u001b[49m\n\u001b[0;32m   4962\u001b[0m \u001b[43m    \u001b[49m\u001b[43m)\u001b[49m\n",
      "File \u001b[1;32m~\\anaconda3\\lib\\site-packages\\pandas\\core\\generic.py:4267\u001b[0m, in \u001b[0;36mNDFrame.drop\u001b[1;34m(self, labels, axis, index, columns, level, inplace, errors)\u001b[0m\n\u001b[0;32m   4265\u001b[0m \u001b[38;5;28;01mfor\u001b[39;00m axis, labels \u001b[38;5;129;01min\u001b[39;00m axes\u001b[38;5;241m.\u001b[39mitems():\n\u001b[0;32m   4266\u001b[0m     \u001b[38;5;28;01mif\u001b[39;00m labels \u001b[38;5;129;01mis\u001b[39;00m \u001b[38;5;129;01mnot\u001b[39;00m \u001b[38;5;28;01mNone\u001b[39;00m:\n\u001b[1;32m-> 4267\u001b[0m         obj \u001b[38;5;241m=\u001b[39m \u001b[43mobj\u001b[49m\u001b[38;5;241;43m.\u001b[39;49m\u001b[43m_drop_axis\u001b[49m\u001b[43m(\u001b[49m\u001b[43mlabels\u001b[49m\u001b[43m,\u001b[49m\u001b[43m \u001b[49m\u001b[43maxis\u001b[49m\u001b[43m,\u001b[49m\u001b[43m \u001b[49m\u001b[43mlevel\u001b[49m\u001b[38;5;241;43m=\u001b[39;49m\u001b[43mlevel\u001b[49m\u001b[43m,\u001b[49m\u001b[43m \u001b[49m\u001b[43merrors\u001b[49m\u001b[38;5;241;43m=\u001b[39;49m\u001b[43merrors\u001b[49m\u001b[43m)\u001b[49m\n\u001b[0;32m   4269\u001b[0m \u001b[38;5;28;01mif\u001b[39;00m inplace:\n\u001b[0;32m   4270\u001b[0m     \u001b[38;5;28mself\u001b[39m\u001b[38;5;241m.\u001b[39m_update_inplace(obj)\n",
      "File \u001b[1;32m~\\anaconda3\\lib\\site-packages\\pandas\\core\\generic.py:4311\u001b[0m, in \u001b[0;36mNDFrame._drop_axis\u001b[1;34m(self, labels, axis, level, errors, consolidate, only_slice)\u001b[0m\n\u001b[0;32m   4309\u001b[0m         new_axis \u001b[38;5;241m=\u001b[39m axis\u001b[38;5;241m.\u001b[39mdrop(labels, level\u001b[38;5;241m=\u001b[39mlevel, errors\u001b[38;5;241m=\u001b[39merrors)\n\u001b[0;32m   4310\u001b[0m     \u001b[38;5;28;01melse\u001b[39;00m:\n\u001b[1;32m-> 4311\u001b[0m         new_axis \u001b[38;5;241m=\u001b[39m \u001b[43maxis\u001b[49m\u001b[38;5;241;43m.\u001b[39;49m\u001b[43mdrop\u001b[49m\u001b[43m(\u001b[49m\u001b[43mlabels\u001b[49m\u001b[43m,\u001b[49m\u001b[43m \u001b[49m\u001b[43merrors\u001b[49m\u001b[38;5;241;43m=\u001b[39;49m\u001b[43merrors\u001b[49m\u001b[43m)\u001b[49m\n\u001b[0;32m   4312\u001b[0m     indexer \u001b[38;5;241m=\u001b[39m axis\u001b[38;5;241m.\u001b[39mget_indexer(new_axis)\n\u001b[0;32m   4314\u001b[0m \u001b[38;5;66;03m# Case for non-unique axis\u001b[39;00m\n\u001b[0;32m   4315\u001b[0m \u001b[38;5;28;01melse\u001b[39;00m:\n",
      "File \u001b[1;32m~\\anaconda3\\lib\\site-packages\\pandas\\core\\indexes\\base.py:6644\u001b[0m, in \u001b[0;36mIndex.drop\u001b[1;34m(self, labels, errors)\u001b[0m\n\u001b[0;32m   6642\u001b[0m \u001b[38;5;28;01mif\u001b[39;00m mask\u001b[38;5;241m.\u001b[39many():\n\u001b[0;32m   6643\u001b[0m     \u001b[38;5;28;01mif\u001b[39;00m errors \u001b[38;5;241m!=\u001b[39m \u001b[38;5;124m\"\u001b[39m\u001b[38;5;124mignore\u001b[39m\u001b[38;5;124m\"\u001b[39m:\n\u001b[1;32m-> 6644\u001b[0m         \u001b[38;5;28;01mraise\u001b[39;00m \u001b[38;5;167;01mKeyError\u001b[39;00m(\u001b[38;5;124mf\u001b[39m\u001b[38;5;124m\"\u001b[39m\u001b[38;5;132;01m{\u001b[39;00m\u001b[38;5;28mlist\u001b[39m(labels[mask])\u001b[38;5;132;01m}\u001b[39;00m\u001b[38;5;124m not found in axis\u001b[39m\u001b[38;5;124m\"\u001b[39m)\n\u001b[0;32m   6645\u001b[0m     indexer \u001b[38;5;241m=\u001b[39m indexer[\u001b[38;5;241m~\u001b[39mmask]\n\u001b[0;32m   6646\u001b[0m \u001b[38;5;28;01mreturn\u001b[39;00m \u001b[38;5;28mself\u001b[39m\u001b[38;5;241m.\u001b[39mdelete(indexer)\n",
      "\u001b[1;31mKeyError\u001b[0m: \"['year'] not found in axis\""
     ]
    }
   ],
   "source": [
    "# dropped unnecessary column \n",
    "stats.drop('year', axis=1, inplace=True)\n",
    "print(stats)"
   ]
  },
  {
   "cell_type": "code",
   "execution_count": 41,
   "id": "442d5dc7",
   "metadata": {
    "scrolled": true
   },
   "outputs": [
    {
     "data": {
      "text/html": [
       "<div>\n",
       "<style scoped>\n",
       "    .dataframe tbody tr th:only-of-type {\n",
       "        vertical-align: middle;\n",
       "    }\n",
       "\n",
       "    .dataframe tbody tr th {\n",
       "        vertical-align: top;\n",
       "    }\n",
       "\n",
       "    .dataframe thead th {\n",
       "        text-align: right;\n",
       "    }\n",
       "</style>\n",
       "<table border=\"1\" class=\"dataframe\">\n",
       "  <thead>\n",
       "    <tr style=\"text-align: right;\">\n",
       "      <th></th>\n",
       "      <th>player_id</th>\n",
       "      <th>player_age</th>\n",
       "      <th>b_home_run</th>\n",
       "      <th>xba</th>\n",
       "      <th>xslg</th>\n",
       "      <th>xwoba</th>\n",
       "      <th>xobp</th>\n",
       "      <th>xiso</th>\n",
       "      <th>exit_velocity_avg</th>\n",
       "      <th>launch_angle_avg</th>\n",
       "    </tr>\n",
       "  </thead>\n",
       "  <tbody>\n",
       "    <tr>\n",
       "      <th>count</th>\n",
       "      <td>152.000000</td>\n",
       "      <td>152.000000</td>\n",
       "      <td>152.000000</td>\n",
       "      <td>152.000000</td>\n",
       "      <td>152.000000</td>\n",
       "      <td>152.000000</td>\n",
       "      <td>152.000000</td>\n",
       "      <td>152.000000</td>\n",
       "      <td>152.000000</td>\n",
       "      <td>152.000000</td>\n",
       "    </tr>\n",
       "    <tr>\n",
       "      <th>mean</th>\n",
       "      <td>609294.947368</td>\n",
       "      <td>28.697368</td>\n",
       "      <td>11.151316</td>\n",
       "      <td>0.268447</td>\n",
       "      <td>0.468092</td>\n",
       "      <td>0.346118</td>\n",
       "      <td>0.340763</td>\n",
       "      <td>0.199658</td>\n",
       "      <td>89.221053</td>\n",
       "      <td>12.934211</td>\n",
       "    </tr>\n",
       "    <tr>\n",
       "      <th>std</th>\n",
       "      <td>61296.518201</td>\n",
       "      <td>3.528577</td>\n",
       "      <td>6.319066</td>\n",
       "      <td>0.025588</td>\n",
       "      <td>0.076849</td>\n",
       "      <td>0.037106</td>\n",
       "      <td>0.032094</td>\n",
       "      <td>0.065404</td>\n",
       "      <td>2.277085</td>\n",
       "      <td>4.877725</td>\n",
       "    </tr>\n",
       "    <tr>\n",
       "      <th>min</th>\n",
       "      <td>408234.000000</td>\n",
       "      <td>21.000000</td>\n",
       "      <td>0.000000</td>\n",
       "      <td>0.203000</td>\n",
       "      <td>0.276000</td>\n",
       "      <td>0.254000</td>\n",
       "      <td>0.269000</td>\n",
       "      <td>0.074000</td>\n",
       "      <td>84.000000</td>\n",
       "      <td>2.600000</td>\n",
       "    </tr>\n",
       "    <tr>\n",
       "      <th>25%</th>\n",
       "      <td>572231.750000</td>\n",
       "      <td>26.000000</td>\n",
       "      <td>7.000000</td>\n",
       "      <td>0.253750</td>\n",
       "      <td>0.416750</td>\n",
       "      <td>0.319500</td>\n",
       "      <td>0.321750</td>\n",
       "      <td>0.158500</td>\n",
       "      <td>87.975000</td>\n",
       "      <td>9.400000</td>\n",
       "    </tr>\n",
       "    <tr>\n",
       "      <th>50%</th>\n",
       "      <td>623377.000000</td>\n",
       "      <td>29.000000</td>\n",
       "      <td>9.500000</td>\n",
       "      <td>0.268500</td>\n",
       "      <td>0.458000</td>\n",
       "      <td>0.343500</td>\n",
       "      <td>0.339500</td>\n",
       "      <td>0.190500</td>\n",
       "      <td>89.300000</td>\n",
       "      <td>13.050000</td>\n",
       "    </tr>\n",
       "    <tr>\n",
       "      <th>75%</th>\n",
       "      <td>663629.750000</td>\n",
       "      <td>31.000000</td>\n",
       "      <td>15.000000</td>\n",
       "      <td>0.283250</td>\n",
       "      <td>0.510250</td>\n",
       "      <td>0.367000</td>\n",
       "      <td>0.362000</td>\n",
       "      <td>0.239000</td>\n",
       "      <td>90.575000</td>\n",
       "      <td>16.325000</td>\n",
       "    </tr>\n",
       "    <tr>\n",
       "      <th>max</th>\n",
       "      <td>683734.000000</td>\n",
       "      <td>41.000000</td>\n",
       "      <td>33.000000</td>\n",
       "      <td>0.350000</td>\n",
       "      <td>0.745000</td>\n",
       "      <td>0.485000</td>\n",
       "      <td>0.445000</td>\n",
       "      <td>0.419000</td>\n",
       "      <td>96.000000</td>\n",
       "      <td>24.500000</td>\n",
       "    </tr>\n",
       "  </tbody>\n",
       "</table>\n",
       "</div>"
      ],
      "text/plain": [
       "           player_id  player_age  b_home_run         xba        xslg  \\\n",
       "count     152.000000  152.000000  152.000000  152.000000  152.000000   \n",
       "mean   609294.947368   28.697368   11.151316    0.268447    0.468092   \n",
       "std     61296.518201    3.528577    6.319066    0.025588    0.076849   \n",
       "min    408234.000000   21.000000    0.000000    0.203000    0.276000   \n",
       "25%    572231.750000   26.000000    7.000000    0.253750    0.416750   \n",
       "50%    623377.000000   29.000000    9.500000    0.268500    0.458000   \n",
       "75%    663629.750000   31.000000   15.000000    0.283250    0.510250   \n",
       "max    683734.000000   41.000000   33.000000    0.350000    0.745000   \n",
       "\n",
       "            xwoba        xobp        xiso  exit_velocity_avg  launch_angle_avg  \n",
       "count  152.000000  152.000000  152.000000         152.000000        152.000000  \n",
       "mean     0.346118    0.340763    0.199658          89.221053         12.934211  \n",
       "std      0.037106    0.032094    0.065404           2.277085          4.877725  \n",
       "min      0.254000    0.269000    0.074000          84.000000          2.600000  \n",
       "25%      0.319500    0.321750    0.158500          87.975000          9.400000  \n",
       "50%      0.343500    0.339500    0.190500          89.300000         13.050000  \n",
       "75%      0.367000    0.362000    0.239000          90.575000         16.325000  \n",
       "max      0.485000    0.445000    0.419000          96.000000         24.500000  "
      ]
     },
     "execution_count": 41,
     "metadata": {},
     "output_type": "execute_result"
    }
   ],
   "source": [
    "stats.describe()"
   ]
  },
  {
   "cell_type": "code",
   "execution_count": 45,
   "id": "3c040e67",
   "metadata": {},
   "outputs": [
    {
     "name": "stdout",
     "output_type": "stream",
     "text": [
      "                   name  player_id  player_age  b_home_run    xba   xslg  \\\n",
      "0        Miguel Cabrera     408234          39           3  0.266  0.396   \n",
      "1       Nelson Cruz Jr.     443558          41           8  0.265  0.479   \n",
      "2      Charlie Blackmon     453568          35          14  0.284  0.458   \n",
      "3      Andrew McCutchen     457705          35           9  0.272  0.458   \n",
      "4         Justin Turner     457759          37           8  0.263  0.453   \n",
      "..                  ...        ...         ...         ...    ...    ...   \n",
      "147      Bobby Witt Jr.     677951          22          13  0.265  0.467   \n",
      "148   Spencer Torkelson     679529          22           5  0.235  0.392   \n",
      "149         Steven Kwan     680757          24           1  0.262  0.344   \n",
      "150         Owen Miller     680911          25           4  0.254  0.375   \n",
      "151       Andrew Vaughn     683734          24          10  0.283  0.477   \n",
      "\n",
      "     xwoba   xobp   xiso  exit_velocity_avg  launch_angle_avg  \n",
      "0    0.305  0.310  0.129               89.8               5.3  \n",
      "1    0.353  0.346  0.214               90.8               7.0  \n",
      "2    0.338  0.333  0.174               86.2              13.5  \n",
      "3    0.338  0.333  0.186               89.0              12.1  \n",
      "4    0.341  0.340  0.190               89.1              19.2  \n",
      "..     ...    ...    ...                ...               ...  \n",
      "147  0.330  0.311  0.202               90.8              16.7  \n",
      "148  0.312  0.319  0.156               89.5              13.2  \n",
      "149  0.311  0.351  0.082               85.1              10.1  \n",
      "150  0.304  0.316  0.122               86.9               9.4  \n",
      "151  0.352  0.339  0.193               92.0               7.4  \n",
      "\n",
      "[152 rows x 11 columns]\n"
     ]
    }
   ],
   "source": [
    "print(stats)"
   ]
  },
  {
   "cell_type": "code",
   "execution_count": 50,
   "id": "85b2f053",
   "metadata": {},
   "outputs": [
    {
     "name": "stdout",
     "output_type": "stream",
     "text": [
      "0\n"
     ]
    }
   ],
   "source": [
    "# checking for duplicates\n",
    "print(stats.duplicated(subset='name').sum())"
   ]
  },
  {
   "cell_type": "code",
   "execution_count": null,
   "id": "30325008",
   "metadata": {},
   "outputs": [],
   "source": []
  }
 ],
 "metadata": {
  "kernelspec": {
   "display_name": "Python 3 (ipykernel)",
   "language": "python",
   "name": "python3"
  },
  "language_info": {
   "codemirror_mode": {
    "name": "ipython",
    "version": 3
   },
   "file_extension": ".py",
   "mimetype": "text/x-python",
   "name": "python",
   "nbconvert_exporter": "python",
   "pygments_lexer": "ipython3",
   "version": "3.9.12"
  }
 },
 "nbformat": 4,
 "nbformat_minor": 5
}
